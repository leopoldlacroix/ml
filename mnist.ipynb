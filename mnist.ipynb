{
 "metadata": {
  "language_info": {
   "codemirror_mode": {
    "name": "ipython",
    "version": 3
   },
   "file_extension": ".py",
   "mimetype": "text/x-python",
   "name": "python",
   "nbconvert_exporter": "python",
   "pygments_lexer": "ipython3",
   "version": "3.8.5"
  },
  "orig_nbformat": 2,
  "kernelspec": {
   "name": "python385jvsc74a57bd02db524e06e9f5f4ffedc911c917cb75e12dbc923643829bf417064a77eb14d37",
   "display_name": "Python 3.8.5 64-bit"
  },
  "metadata": {
   "interpreter": {
    "hash": "2db524e06e9f5f4ffedc911c917cb75e12dbc923643829bf417064a77eb14d37"
   }
  }
 },
 "nbformat": 4,
 "nbformat_minor": 2,
 "cells": [
  {
   "cell_type": "code",
   "execution_count": 79,
   "metadata": {},
   "outputs": [],
   "source": [
    "import numpy as np\n",
    "import tensorflow.compat.v1 as tf\n",
    "tf.disable_v2_behavior()\n",
    "import matplotlib.pyplot as plt\n",
    "\n",
    "mnist = tf.keras.datasets.mnist\n",
    "data = mnist.load_data()\n",
    "\n",
    "height = 28\n",
    "length = 28\n",
    "\n",
    "data_train_image = data[0][0].reshape(data[0][0].shape[0], height*length) #en ligne\n",
    "data_train_label = data[0][1]\n",
    "data_train_label_1h = np.zeros((data_train_label.size, data_train_label.max()+1))\n",
    "data_train_label_1h[np.arange(data_train_label.size),data_train_label] = 1\n",
    "\n",
    "\n",
    "data_test_image = data[1][0].reshape(data[1][0].shape[0], height*length) # en ligne\n",
    "data_test_label = data[1][1]\n",
    "data_test_label_1h = np.zeros((data_test_label.size, data_test_label.max()+1))\n",
    "data_test_label_1h[np.arange(data_test_label.size),data_test_label] = 1"
   ]
  },
  {
   "cell_type": "code",
   "execution_count": 116,
   "metadata": {},
   "outputs": [],
   "source": [
    "input_size = length*height\n",
    "label_size = 10\n",
    "lr = 0.5\n",
    "\n",
    "tf_features = tf.placeholder(tf.float32, shape=[None,imput_size])\n",
    "tf_targets = tf.placeholder(tf.float32, shape=[None,label_size])\n",
    "\n",
    "# input layer\n",
    "w1 = tf.Variable(tf.random.normal([input_size, label_size]))\n",
    "b1 = tf.Variable(tf.zeros([label_size]))\n",
    "# operations\n",
    "z1 = tf.matmul(tf_features, w1) + b1\n",
    "# a1 = tf.nn.sigmoid(z1)\n",
    "\n",
    "# # out layer\n",
    "# w2 = tf.Variable(tf.random.normal([3,1]))\n",
    "# b2 = tf.Variable(tf.zeros([1]))\n",
    "# # operations\n",
    "# z2 = tf.matmul(a1, w2) + b2\n",
    "p = tf.nn.softmax(z1)\n",
    "\n",
    "cost = tf.nn.softmax_cross_entropy_with_logits(labels = tf_targets, logits = z1)\n",
    "optimizer = tf.train.GradientDescentOptimizer(learning_rate = lr)\n",
    "train = optimizer.minimize(cost)\n",
    "\n",
    "pred_is_correct = tf.equal(tf.round(p), tf_targets)\n",
    "accuracy = tf.reduce_mean(tf.cast(pred_is_correct, tf.float32))\n",
    "\n",
    "sess = tf.Session()\n",
    "sess.run(tf.global_variables_initializer())"
   ]
  },
  {
   "cell_type": "code",
   "execution_count": 118,
   "metadata": {},
   "outputs": [
    {
     "output_type": "stream",
     "name": "stdout",
     "text": [
      "b: [0. 0. 0. 0. 0. 0. 0. 0. 0. 0.]\np: [[0. 0. 0. 0. 0. 0. 0. 0. 1. 0.]]\ntrue val: [0. 0. 0. 0. 0. 1. 0. 0. 0. 0.]\ncost: [3011.697]\naccuracy: 0.8\nb: [ 0.   0.   0.   0.   0.   0.5  0.   0.  -0.5  0. ]\np: [[0. 0. 0. 0. 0. 1. 0. 0. 0. 0.]]\ntrue val: [0. 0. 0. 0. 0. 1. 0. 0. 0. 0.]\ncost: [0.]\naccuracy: 1.0\n"
     ]
    }
   ],
   "source": [
    "print(\"b:\", sess.run(b1))\n",
    "\n",
    "print(\"p:\", sess.run(p, feed_dict={\n",
    "    tf_features: [data_train_image[0]]\n",
    "}))\n",
    "\n",
    "print(\"true val:\", data_train_label_1h[0])\n",
    "\n",
    "print(\"cost:\", sess.run(cost, feed_dict={\n",
    "    tf_features: [data_train_image[0]],\n",
    "    tf_targets: [data_train_label_1h[0]]\n",
    "}))\n",
    "\n",
    "print(\"accuracy:\", sess.run(accuracy, feed_dict={\n",
    "    tf_features: [data_train_image[0]],\n",
    "    tf_targets: [data_train_label_1h[0]]\n",
    "}))\n",
    "\n",
    "sess.run(\n",
    "    train,\n",
    "    feed_dict={\n",
    "        tf_features: [data_train_image[0]],\n",
    "        tf_targets: [data_train_label_1h[0]]\n",
    "    }\n",
    ")\n",
    "\n",
    "print(\"b:\", sess.run(b1))\n",
    "\n",
    "print(\"p:\", sess.run(p, feed_dict={\n",
    "    tf_features: [data_train_image[0]]\n",
    "}))\n",
    "\n",
    "print(\"true val:\", data_train_label_1h[0])\n",
    "\n",
    "print(\"cost:\", sess.run(cost, feed_dict={\n",
    "    tf_features: [data_train_image[0]],\n",
    "    tf_targets: [data_train_label_1h[0]]\n",
    "}))\n",
    "\n",
    "print(\"accuracy:\", sess.run(accuracy, feed_dict={\n",
    "    tf_features: [data_train_image[0]],\n",
    "    tf_targets: [data_train_label_1h[0]]\n",
    "}))"
   ]
  }
 ]
}